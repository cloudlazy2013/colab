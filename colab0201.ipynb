{
  "cells": [
    {
      "cell_type": "markdown",
      "metadata": {
        "id": "view-in-github",
        "colab_type": "text"
      },
      "source": [
        "<a href=\"https://colab.research.google.com/github/cloudlazy2013/colab/blob/main/colab0201.ipynb\" target=\"_parent\"><img src=\"https://colab.research.google.com/assets/colab-badge.svg\" alt=\"Open In Colab\"/></a>"
      ]
    },
    {
      "cell_type": "code",
      "execution_count": null,
      "metadata": {
        "id": "51NLB2ds2xRh"
      },
      "outputs": [],
      "source": []
    },
    {
      "cell_type": "markdown",
      "metadata": {
        "id": "bnmhf6zgICt-"
      },
      "source": [
        "**圖形Sample**"
      ]
    },
    {
      "cell_type": "code",
      "execution_count": 2,
      "metadata": {
        "colab": {
          "base_uri": "https://localhost:8080/",
          "height": 265
        },
        "id": "HoH2SG7MINy0",
        "outputId": "0edbb1a9-46ea-4b74-a896-d44a042f3975"
      },
      "outputs": [
        {
          "output_type": "display_data",
          "data": {
            "text/plain": [
              "<Figure size 432x288 with 1 Axes>"
            ],
            "image/png": "[encoded data removed]"
          },
          "metadata": {
            "needs_background": "light"
          }
        }
      ],
      "source": [
        "import numpy\n",
        "import matplotlib.pyplot as plt\n",
        "\n",
        "x = numpy.random.normal(5.0, 1.0, 100000)\n",
        "plt.hist(x, 100)\n",
        "plt.show()"
      ]
    },
    {
      "cell_type": "markdown",
      "metadata": {
        "id": "Nh_lqtPw24E9"
      },
      "source": [
        "### **機器學習** (模型會將X不斷帶入Y中並經過100次循環(epochs=100)猜測一個值，然後決定模型的好壞)"
      ]
    },
    {
      "cell_type": "markdown",
      "metadata": {
        "id": "B9O8YqeyYZCC"
      },
      "source": []
    },
    {
      "cell_type": "code",
      "execution_count": 3,
      "metadata": {
        "colab": {
          "base_uri": "https://localhost:8080/"
        },
        "id": "SMYQtD_cL6gV",
        "outputId": "d703b081-89b0-44ba-fe99-3313658c329b"
      },
      "outputs": [
        {
          "output_type": "stream",
          "name": "stdout",
          "text": [
            "Epoch 1/100\n",
            "1/1 [==============================] - 0s 395ms/step - loss: 69.1736\n",
            "Epoch 2/100\n",
            "1/1 [==============================] - 0s 8ms/step - loss: 54.4230\n",
            "Epoch 3/100\n",
            "1/1 [==============================] - 0s 7ms/step - loss: 42.8180\n",
            "Epoch 4/100\n",
            "1/1 [==============================] - 0s 4ms/step - loss: 33.6877\n",
            "Epoch 5/100\n",
            "1/1 [==============================] - 0s 7ms/step - loss: 26.5044\n",
            "Epoch 6/100\n",
            "1/1 [==============================] - 0s 7ms/step - loss: 20.8530\n",
            "Epoch 7/100\n",
            "1/1 [==============================] - 0s 5ms/step - loss: 16.4066\n",
            "Epoch 8/100\n",
            "1/1 [==============================] - 0s 4ms/step - loss: 12.9085\n",
            "Epoch 9/100\n",
            "1/1 [==============================] - 0s 8ms/step - loss: 10.1563\n",
            "Epoch 10/100\n",
            "1/1 [==============================] - 0s 6ms/step - loss: 7.9910\n",
            "Epoch 11/100\n",
            "1/1 [==============================] - 0s 6ms/step - loss: 6.2874\n",
            "Epoch 12/100\n",
            "1/1 [==============================] - 0s 5ms/step - loss: 4.9471\n",
            "Epoch 13/100\n",
            "1/1 [==============================] - 0s 6ms/step - loss: 3.8926\n",
            "Epoch 14/100\n",
            "1/1 [==============================] - 0s 4ms/step - loss: 3.0630\n",
            "Epoch 15/100\n",
            "1/1 [==============================] - 0s 21ms/step - loss: 2.4103\n",
            "Epoch 16/100\n",
            "1/1 [==============================] - 0s 6ms/step - loss: 1.8967\n",
            "Epoch 17/100\n",
            "1/1 [==============================] - 0s 4ms/step - loss: 1.4927\n",
            "Epoch 18/100\n",
            "1/1 [==============================] - 0s 3ms/step - loss: 1.1748\n",
            "Epoch 19/100\n",
            "1/1 [==============================] - 0s 4ms/step - loss: 0.9247\n",
            "Epoch 20/100\n",
            "1/1 [==============================] - 0s 4ms/step - loss: 0.7279\n",
            "Epoch 21/100\n",
            "1/1 [==============================] - 0s 4ms/step - loss: 0.5731\n",
            "Epoch 22/100\n",
            "1/1 [==============================] - 0s 4ms/step - loss: 0.4513\n",
            "Epoch 23/100\n",
            "1/1 [==============================] - 0s 4ms/step - loss: 0.3554\n",
            "Epoch 24/100\n",
            "1/1 [==============================] - 0s 4ms/step - loss: 0.2800\n",
            "Epoch 25/100\n",
            "1/1 [==============================] - 0s 4ms/step - loss: 0.2207\n",
            "Epoch 26/100\n",
            "1/1 [==============================] - 0s 4ms/step - loss: 0.1740\n",
            "Epoch 27/100\n",
            "1/1 [==============================] - 0s 4ms/step - loss: 0.1372\n",
            "Epoch 28/100\n",
            "1/1 [==============================] - 0s 4ms/step - loss: 0.1083\n",
            "Epoch 29/100\n",
            "1/1 [==============================] - 0s 4ms/step - loss: 0.0856\n",
            "Epoch 30/100\n",
            "1/1 [==============================] - 0s 4ms/step - loss: 0.0677\n",
            "Epoch 31/100\n",
            "1/1 [==============================] - 0s 4ms/step - loss: 0.0536\n",
            "Epoch 32/100\n",
            "1/1 [==============================] - 0s 4ms/step - loss: 0.0425\n",
            "Epoch 33/100\n",
            "1/1 [==============================] - 0s 5ms/step - loss: 0.0337\n",
            "Epoch 34/100\n",
            "1/1 [==============================] - 0s 4ms/step - loss: 0.0268\n",
            "Epoch 35/100\n",
            "1/1 [==============================] - 0s 4ms/step - loss: 0.0214\n",
            "Epoch 36/100\n",
            "1/1 [==============================] - 0s 5ms/step - loss: 0.0172\n",
            "Epoch 37/100\n",
            "1/1 [==============================] - 0s 5ms/step - loss: 0.0138\n",
            "Epoch 38/100\n",
            "1/1 [==============================] - 0s 4ms/step - loss: 0.0111\n",
            "Epoch 39/100\n",
            "1/1 [==============================] - 0s 4ms/step - loss: 0.0090\n",
            "Epoch 40/100\n",
            "1/1 [==============================] - 0s 6ms/step - loss: 0.0074\n",
            "Epoch 41/100\n",
            "1/1 [==============================] - 0s 6ms/step - loss: 0.0061\n",
            "Epoch 42/100\n",
            "1/1 [==============================] - 0s 5ms/step - loss: 0.0050\n",
            "Epoch 43/100\n",
            "1/1 [==============================] - 0s 5ms/step - loss: 0.0042\n",
            "Epoch 44/100\n",
            "1/1 [==============================] - 0s 8ms/step - loss: 0.0036\n",
            "Epoch 45/100\n",
            "1/1 [==============================] - 0s 5ms/step - loss: 0.0031\n",
            "Epoch 46/100\n",
            "1/1 [==============================] - 0s 7ms/step - loss: 0.0026\n",
            "Epoch 47/100\n",
            "1/1 [==============================] - 0s 5ms/step - loss: 0.0023\n",
            "Epoch 48/100\n",
            "1/1 [==============================] - 0s 4ms/step - loss: 0.0021\n",
            "Epoch 49/100\n",
            "1/1 [==============================] - 0s 6ms/step - loss: 0.0018\n",
            "Epoch 50/100\n",
            "1/1 [==============================] - 0s 5ms/step - loss: 0.0017\n",
            "Epoch 51/100\n",
            "1/1 [==============================] - 0s 5ms/step - loss: 0.0015\n",
            "Epoch 52/100\n",
            "1/1 [==============================] - 0s 4ms/step - loss: 0.0014\n",
            "Epoch 53/100\n",
            "1/1 [==============================] - 0s 4ms/step - loss: 0.0013\n",
            "Epoch 54/100\n",
            "1/1 [==============================] - 0s 4ms/step - loss: 0.0012\n",
            "Epoch 55/100\n",
            "1/1 [==============================] - 0s 4ms/step - loss: 0.0012\n",
            "Epoch 56/100\n",
            "1/1 [==============================] - 0s 4ms/step - loss: 0.0011\n",
            "Epoch 57/100\n",
            "1/1 [==============================] - 0s 4ms/step - loss: 0.0011\n",
            "Epoch 58/100\n",
            "1/1 [==============================] - 0s 4ms/step - loss: 0.0010\n",
            "Epoch 59/100\n",
            "1/1 [==============================] - 0s 4ms/step - loss: 0.0010\n",
            "Epoch 60/100\n",
            "1/1 [==============================] - 0s 4ms/step - loss: 9.6750e-04\n",
            "Epoch 61/100\n",
            "1/1 [==============================] - 0s 6ms/step - loss: 9.3810e-04\n",
            "Epoch 62/100\n",
            "1/1 [==============================] - 0s 4ms/step - loss: 9.1133e-04\n",
            "Epoch 63/100\n",
            "1/1 [==============================] - 0s 4ms/step - loss: 8.8672e-04\n",
            "Epoch 64/100\n",
            "1/1 [==============================] - 0s 4ms/step - loss: 8.6386e-04\n",
            "Epoch 65/100\n",
            "1/1 [==============================] - 0s 4ms/step - loss: 8.4246e-04\n",
            "Epoch 66/100\n",
            "1/1 [==============================] - 0s 4ms/step - loss: 8.2228e-04\n",
            "Epoch 67/100\n",
            "1/1 [==============================] - 0s 4ms/step - loss: 8.0313e-04\n",
            "Epoch 68/100\n",
            "1/1 [==============================] - 0s 4ms/step - loss: 7.8486e-04\n",
            "Epoch 69/100\n",
            "1/1 [==============================] - 0s 4ms/step - loss: 7.6733e-04\n",
            "Epoch 70/100\n",
            "1/1 [==============================] - 0s 4ms/step - loss: 7.5047e-04\n",
            "Epoch 71/100\n",
            "1/1 [==============================] - 0s 4ms/step - loss: 7.3419e-04\n",
            "Epoch 72/100\n",
            "1/1 [==============================] - 0s 4ms/step - loss: 7.1843e-04\n",
            "Epoch 73/100\n",
            "1/1 [==============================] - 0s 4ms/step - loss: 7.0313e-04\n",
            "Epoch 74/100\n",
            "1/1 [==============================] - 0s 4ms/step - loss: 6.8827e-04\n",
            "Epoch 75/100\n",
            "1/1 [==============================] - 0s 4ms/step - loss: 6.7380e-04\n",
            "Epoch 76/100\n",
            "1/1 [==============================] - 0s 4ms/step - loss: 6.5969e-04\n",
            "Epoch 77/100\n",
            "1/1 [==============================] - 0s 4ms/step - loss: 6.4594e-04\n",
            "Epoch 78/100\n",
            "1/1 [==============================] - 0s 3ms/step - loss: 6.3251e-04\n",
            "Epoch 79/100\n",
            "1/1 [==============================] - 0s 3ms/step - loss: 6.1939e-04\n",
            "Epoch 80/100\n",
            "1/1 [==============================] - 0s 4ms/step - loss: 6.0656e-04\n",
            "Epoch 81/100\n",
            "1/1 [==============================] - 0s 4ms/step - loss: 5.9403e-04\n",
            "Epoch 82/100\n",
            "1/1 [==============================] - 0s 3ms/step - loss: 5.8177e-04\n",
            "Epoch 83/100\n",
            "1/1 [==============================] - 0s 3ms/step - loss: 5.6977e-04\n",
            "Epoch 84/100\n",
            "1/1 [==============================] - 0s 3ms/step - loss: 5.5803e-04\n",
            "Epoch 85/100\n",
            "1/1 [==============================] - 0s 3ms/step - loss: 5.4654e-04\n",
            "Epoch 86/100\n",
            "1/1 [==============================] - 0s 3ms/step - loss: 5.3528e-04\n",
            "Epoch 87/100\n",
            "1/1 [==============================] - 0s 3ms/step - loss: 5.2427e-04\n",
            "Epoch 88/100\n",
            "1/1 [==============================] - 0s 4ms/step - loss: 5.1349e-04\n",
            "Epoch 89/100\n",
            "1/1 [==============================] - 0s 6ms/step - loss: 5.0292e-04\n",
            "Epoch 90/100\n",
            "1/1 [==============================] - 0s 4ms/step - loss: 4.9259e-04\n",
            "Epoch 91/100\n",
            "1/1 [==============================] - 0s 3ms/step - loss: 4.8246e-04\n",
            "Epoch 92/100\n",
            "1/1 [==============================] - 0s 3ms/step - loss: 4.7255e-04\n",
            "Epoch 93/100\n",
            "1/1 [==============================] - 0s 3ms/step - loss: 4.6283e-04\n",
            "Epoch 94/100\n",
            "1/1 [==============================] - 0s 3ms/step - loss: 4.5332e-04\n",
            "Epoch 95/100\n",
            "1/1 [==============================] - 0s 4ms/step - loss: 4.4401e-04\n",
            "Epoch 96/100\n",
            "1/1 [==============================] - 0s 4ms/step - loss: 4.3489e-04\n",
            "Epoch 97/100\n",
            "1/1 [==============================] - 0s 3ms/step - loss: 4.2595e-04\n",
            "Epoch 98/100\n",
            "1/1 [==============================] - 0s 3ms/step - loss: 4.1720e-04\n",
            "Epoch 99/100\n",
            "1/1 [==============================] - 0s 3ms/step - loss: 4.0863e-04\n",
            "Epoch 100/100\n",
            "1/1 [==============================] - 0s 3ms/step - loss: 4.0024e-04\n"
          ]
        },
        {
          "output_type": "execute_result",
          "data": {
            "text/plain": [
              "<keras.callbacks.History at 0x7f20e7485fd0>"
            ]
          },
          "metadata": {},
          "execution_count": 3
        }
      ],
      "source": [
        "import tensorflow as tf\n",
        "import numpy as np\n",
        "from tensorflow import keras\n",
        "\n",
        "model = tf.keras.Sequential([keras.layers.Dense(units=1, input_shape=[1])])\n",
        "model.compile(optimizer='sgd', loss='mean_squared_error')\n",
        "\n",
        "xs = np.array([-1.0, 0.0, 1.0, 2.0, 3.0, 4.0], dtype=float)\n",
        "ys = np.array([-2.0, 1.0, 4.0, 7.0, 10.0, 13.0], dtype=float)\n",
        "# 以上code定義此neural network\n",
        "\n",
        "model.fit(xs, ys, epochs=100)"
      ]
    },
    {
      "cell_type": "code",
      "execution_count": null,
      "metadata": {
        "colab": {
          "base_uri": "https://localhost:8080/",
          "height": 167
        },
        "id": "4OSEpiqR481i",
        "outputId": "78b40c72-b522-4cb1-c54b-720c7a0d02c1"
      },
      "outputs": [
        {
          "ename": "NameError",
          "evalue": "ignored",
          "output_type": "error",
          "traceback": [
            "\u001b[0;31m---------------------------------------------------------------------------\u001b[0m",
            "\u001b[0;31mNameError\u001b[0m                                 Traceback (most recent call last)",
            "\u001b[0;32m<ipython-input-2-d0664ca5bce1>\u001b[0m in \u001b[0;36m<module>\u001b[0;34m\u001b[0m\n\u001b[0;32m----> 1\u001b[0;31m \u001b[0mpraint\u001b[0m\u001b[0;34m(\u001b[0m\u001b[0;34m'hahahahahahaha'\u001b[0m\u001b[0;34m)\u001b[0m\u001b[0;34m\u001b[0m\u001b[0;34m\u001b[0m\u001b[0m\n\u001b[0m",
            "\u001b[0;31mNameError\u001b[0m: name 'praint' is not defined"
          ]
        }
      ],
      "source": [
        "praint('hahahahahahaha')"
      ]
    },
    {
      "cell_type": "code",
      "execution_count": null,
      "metadata": {
        "colab": {
          "base_uri": "https://localhost:8080/"
        },
        "id": "zo1CThVi3IsO",
        "outputId": "e10361b2-bcdf-41c7-b6c7-e6ef93a3a8b7"
      },
      "outputs": [
        {
          "name": "stdout",
          "output_type": "stream",
          "text": [
            "Hello\n"
          ]
        }
      ],
      "source": [
        "print('Hello')"
      ]
    },
    {
      "cell_type": "markdown",
      "metadata": {
        "id": "tUGzjW6zu_4U"
      },
      "source": [
        "#Google雲端硬碟檔案與Colab連結"
      ]
    },
    {
      "cell_type": "code",
      "execution_count": 5,
      "metadata": {
        "colab": {
          "base_uri": "https://localhost:8080/"
        },
        "id": "Xu4hTNqavCHy",
        "outputId": "0a345868-2c9b-4663-afab-c48adc2f7f1a"
      },
      "outputs": [
        {
          "output_type": "stream",
          "name": "stdout",
          "text": [
            "Drive already mounted at /content/drive; to attempt to forcibly remount, call drive.mount(\"/content/drive\", force_remount=True).\n",
            "您好 Google Drive!"
          ]
        }
      ],
      "source": [
        "import os\n",
        "\n",
        "from google.colab import drive\n",
        "drive.mount(\"/content/drive\")\n",
        "\n",
        "##出現提示欄進行授權\n",
        "os.chdir(\"/content/drive/My Drive/colab\") \n",
        "os.listdir() \n",
        "\n",
        "!cat '/content/drive/My Drive/colab/memo.txt'"
      ]
    },
    {
      "cell_type": "markdown",
      "metadata": {
        "id": "T6RZo9CxwUgb"
      },
      "source": []
    },
    {
      "cell_type": "markdown",
      "metadata": {
        "id": "tHXxbLh6M0l5"
      },
      "source": [
        "### **使用 PyDrive 查看、下載、儲存檔案; 透過 OAuth2驗證**"
      ]
    },
    {
      "cell_type": "code",
      "execution_count": 6,
      "metadata": {
        "colab": {
          "base_uri": "https://localhost:8080/"
        },
        "id": "2PdA88dJNCma",
        "outputId": "4c07f47b-21ce-4b30-a676-e8ac67ec3ad7"
      },
      "outputs": [
        {
          "output_type": "stream",
          "name": "stdout",
          "text": [
            "Uploaded file with ID 1DlaL6505eFjPU0EOjzsj3-AFCeel3qyM\n"
          ]
        }
      ],
      "source": [
        "from pydrive.auth import GoogleAuth\n",
        "from pydrive.drive import GoogleDrive\n",
        "from google.colab import auth\n",
        "from oauth2client.client import GoogleCredentials\n",
        "\n",
        "auth.authenticate_user()\n",
        "gauth = GoogleAuth()\n",
        "gauth.credentials = GoogleCredentials.get_application_default()\n",
        "drive = GoogleDrive(gauth)\n",
        "\n",
        "# Create & upload a text file.\n",
        "uploaded = drive.CreateFile({'title': 'abc.txt'})\n",
        "uploaded.SetContentString('Sample upload file content 範例')\n",
        "uploaded.Upload()\n",
        "print('Uploaded file with ID {}'.format(uploaded.get('id')))"
      ]
    },
    {
      "cell_type": "code",
      "execution_count": null,
      "metadata": {
        "id": "x_7xUUj8ge9h"
      },
      "outputs": [],
      "source": [
        "print(\"test.....\")"
      ]
    },
    {
      "cell_type": "markdown",
      "source": [
        "## **dfdddd**"
      ],
      "metadata": {
        "id": "zAbFHjBL_Zkf"
      }
    },
    {
      "cell_type": "code",
      "execution_count": null,
      "metadata": {
        "id": "lVr-4bvhPYlu"
      },
      "outputs": [],
      "source": []
    },
    {
      "cell_type": "markdown",
      "source": [
        "## dddddddddddddddddddddddd"
      ],
      "metadata": {
        "id": "t9y2ESMl_dCG"
      }
    }
  ],
  "metadata": {
    "colab": {
      "provenance": [],
      "authorship_tag": "ABX9TyOxHqgCEygwXu9OMo0RKOg5",
      "include_colab_link": true
    },
    "gpuClass": "standard",
    "kernelspec": {
      "display_name": "Python 3",
      "name": "python3"
    },
    "language_info": {
      "name": "python"
    }
  },
  "nbformat": 4,
  "nbformat_minor": 0
}