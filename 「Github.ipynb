{
  "nbformat": 4,
  "nbformat_minor": 0,
  "metadata": {
    "colab": {
      "provenance": [],
      "authorship_tag": "ABX9TyPRImQZRuY8SMY02UxijB4m",
      "include_colab_link": true
    },
    "kernelspec": {
      "name": "python3",
      "display_name": "Python 3"
    },
    "language_info": {
      "name": "python"
    }
  },
  "cells": [
    {
      "cell_type": "markdown",
      "metadata": {
        "id": "view-in-github",
        "colab_type": "text"
      },
      "source": [
        "<a href=\"https://colab.research.google.com/github/cloudlazy2013/colab/blob/main/%E3%80%8CGithub.ipynb\" target=\"_parent\"><img src=\"https://colab.research.google.com/assets/colab-badge.svg\" alt=\"Open In Colab\"/></a>"
      ]
    },
    {
      "cell_type": "code",
      "execution_count": null,
      "metadata": {
        "id": "eEKofwLShIwB"
      },
      "outputs": [],
      "source": []
    },
    {
      "cell_type": "markdown",
      "source": [
        "## **Colab和Github連動**"
      ],
      "metadata": {
        "id": "bU16OA4AhPpQ"
      }
    },
    {
      "cell_type": "code",
      "source": [
        "print('Hello~')"
      ],
      "metadata": {
        "id": "6xNQ56S-hTjP",
        "outputId": "98e86232-5845-45a1-c0c2-9b77b95f4ce7",
        "colab": {
          "base_uri": "https://localhost:8080/"
        }
      },
      "execution_count": null,
      "outputs": [
        {
          "output_type": "stream",
          "name": "stdout",
          "text": [
            "Hello~\n"
          ]
        }
      ]
    },
    {
      "cell_type": "code",
      "source": [
        "print('Python')"
      ],
      "metadata": {
        "id": "6mXp5Jl0m_gE"
      },
      "execution_count": null,
      "outputs": []
    },
    {
      "cell_type": "code",
      "source": [
        "print('Github')"
      ],
      "metadata": {
        "colab": {
          "base_uri": "https://localhost:8080/"
        },
        "id": "MPYrSBiJiOLX",
        "outputId": "e7fd2897-3bb7-4d5a-927d-af953297e098"
      },
      "execution_count": null,
      "outputs": [
        {
          "output_type": "stream",
          "name": "stdout",
          "text": [
            "Github\n"
          ]
        }
      ]
    },
    {
      "cell_type": "markdown",
      "source": [],
      "metadata": {
        "id": "v7OTTBPLhJyD"
      }
    }
  ]
}